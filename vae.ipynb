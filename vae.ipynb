{
  "nbformat": 4,
  "nbformat_minor": 0,
  "metadata": {
    "colab": {
      "name": "vae_clean.ipynb",
      "provenance": [],
      "collapsed_sections": []
    },
    "kernelspec": {
      "name": "python3",
      "display_name": "Python 3"
    },
    "accelerator": "GPU",
    "widgets": {
      "application/vnd.jupyter.widget-state+json": {
        "24f83777a52144449c198ad39bbbb2c4": {
          "model_module": "@jupyter-widgets/controls",
          "model_name": "HBoxModel",
          "state": {
            "_view_name": "HBoxView",
            "_dom_classes": [],
            "_model_name": "HBoxModel",
            "_view_module": "@jupyter-widgets/controls",
            "_model_module_version": "1.5.0",
            "_view_count": null,
            "_view_module_version": "1.5.0",
            "box_style": "",
            "layout": "IPY_MODEL_36af0ae371a74180b4dc39314025246c",
            "_model_module": "@jupyter-widgets/controls",
            "children": [
              "IPY_MODEL_0367f698132941568d7c490cbad287f3",
              "IPY_MODEL_44fa00e9f30b4d69a8ac117d03f12121"
            ]
          }
        },
        "36af0ae371a74180b4dc39314025246c": {
          "model_module": "@jupyter-widgets/base",
          "model_name": "LayoutModel",
          "state": {
            "_view_name": "LayoutView",
            "grid_template_rows": null,
            "right": null,
            "justify_content": null,
            "_view_module": "@jupyter-widgets/base",
            "overflow": null,
            "_model_module_version": "1.2.0",
            "_view_count": null,
            "flex_flow": null,
            "width": null,
            "min_width": null,
            "border": null,
            "align_items": null,
            "bottom": null,
            "_model_module": "@jupyter-widgets/base",
            "top": null,
            "grid_column": null,
            "overflow_y": null,
            "overflow_x": null,
            "grid_auto_flow": null,
            "grid_area": null,
            "grid_template_columns": null,
            "flex": null,
            "_model_name": "LayoutModel",
            "justify_items": null,
            "grid_row": null,
            "max_height": null,
            "align_content": null,
            "visibility": null,
            "align_self": null,
            "height": null,
            "min_height": null,
            "padding": null,
            "grid_auto_rows": null,
            "grid_gap": null,
            "max_width": null,
            "order": null,
            "_view_module_version": "1.2.0",
            "grid_template_areas": null,
            "object_position": null,
            "object_fit": null,
            "grid_auto_columns": null,
            "margin": null,
            "display": null,
            "left": null
          }
        },
        "0367f698132941568d7c490cbad287f3": {
          "model_module": "@jupyter-widgets/controls",
          "model_name": "IntProgressModel",
          "state": {
            "_view_name": "ProgressView",
            "style": "IPY_MODEL_21b65493cefd439a9668db4f611261dc",
            "_dom_classes": [],
            "description": "",
            "_model_name": "IntProgressModel",
            "bar_style": "success",
            "max": 1,
            "_view_module": "@jupyter-widgets/controls",
            "_model_module_version": "1.5.0",
            "value": 1,
            "_view_count": null,
            "_view_module_version": "1.5.0",
            "orientation": "horizontal",
            "min": 0,
            "description_tooltip": null,
            "_model_module": "@jupyter-widgets/controls",
            "layout": "IPY_MODEL_cd5ec5408a1045378531a219c951df7c"
          }
        },
        "44fa00e9f30b4d69a8ac117d03f12121": {
          "model_module": "@jupyter-widgets/controls",
          "model_name": "HTMLModel",
          "state": {
            "_view_name": "HTMLView",
            "style": "IPY_MODEL_5e544983005c4796ae37da5485173e0c",
            "_dom_classes": [],
            "description": "",
            "_model_name": "HTMLModel",
            "placeholder": "​",
            "_view_module": "@jupyter-widgets/controls",
            "_model_module_version": "1.5.0",
            "value": " 78405632/? [00:02&lt;00:00, 26499590.48it/s]",
            "_view_count": null,
            "_view_module_version": "1.5.0",
            "description_tooltip": null,
            "_model_module": "@jupyter-widgets/controls",
            "layout": "IPY_MODEL_15260d2f8bdf4cf584355200d74ca725"
          }
        },
        "21b65493cefd439a9668db4f611261dc": {
          "model_module": "@jupyter-widgets/controls",
          "model_name": "ProgressStyleModel",
          "state": {
            "_view_name": "StyleView",
            "_model_name": "ProgressStyleModel",
            "description_width": "initial",
            "_view_module": "@jupyter-widgets/base",
            "_model_module_version": "1.5.0",
            "_view_count": null,
            "_view_module_version": "1.2.0",
            "bar_color": null,
            "_model_module": "@jupyter-widgets/controls"
          }
        },
        "cd5ec5408a1045378531a219c951df7c": {
          "model_module": "@jupyter-widgets/base",
          "model_name": "LayoutModel",
          "state": {
            "_view_name": "LayoutView",
            "grid_template_rows": null,
            "right": null,
            "justify_content": null,
            "_view_module": "@jupyter-widgets/base",
            "overflow": null,
            "_model_module_version": "1.2.0",
            "_view_count": null,
            "flex_flow": null,
            "width": null,
            "min_width": null,
            "border": null,
            "align_items": null,
            "bottom": null,
            "_model_module": "@jupyter-widgets/base",
            "top": null,
            "grid_column": null,
            "overflow_y": null,
            "overflow_x": null,
            "grid_auto_flow": null,
            "grid_area": null,
            "grid_template_columns": null,
            "flex": null,
            "_model_name": "LayoutModel",
            "justify_items": null,
            "grid_row": null,
            "max_height": null,
            "align_content": null,
            "visibility": null,
            "align_self": null,
            "height": null,
            "min_height": null,
            "padding": null,
            "grid_auto_rows": null,
            "grid_gap": null,
            "max_width": null,
            "order": null,
            "_view_module_version": "1.2.0",
            "grid_template_areas": null,
            "object_position": null,
            "object_fit": null,
            "grid_auto_columns": null,
            "margin": null,
            "display": null,
            "left": null
          }
        },
        "5e544983005c4796ae37da5485173e0c": {
          "model_module": "@jupyter-widgets/controls",
          "model_name": "DescriptionStyleModel",
          "state": {
            "_view_name": "StyleView",
            "_model_name": "DescriptionStyleModel",
            "description_width": "",
            "_view_module": "@jupyter-widgets/base",
            "_model_module_version": "1.5.0",
            "_view_count": null,
            "_view_module_version": "1.2.0",
            "_model_module": "@jupyter-widgets/controls"
          }
        },
        "15260d2f8bdf4cf584355200d74ca725": {
          "model_module": "@jupyter-widgets/base",
          "model_name": "LayoutModel",
          "state": {
            "_view_name": "LayoutView",
            "grid_template_rows": null,
            "right": null,
            "justify_content": null,
            "_view_module": "@jupyter-widgets/base",
            "overflow": null,
            "_model_module_version": "1.2.0",
            "_view_count": null,
            "flex_flow": null,
            "width": null,
            "min_width": null,
            "border": null,
            "align_items": null,
            "bottom": null,
            "_model_module": "@jupyter-widgets/base",
            "top": null,
            "grid_column": null,
            "overflow_y": null,
            "overflow_x": null,
            "grid_auto_flow": null,
            "grid_area": null,
            "grid_template_columns": null,
            "flex": null,
            "_model_name": "LayoutModel",
            "justify_items": null,
            "grid_row": null,
            "max_height": null,
            "align_content": null,
            "visibility": null,
            "align_self": null,
            "height": null,
            "min_height": null,
            "padding": null,
            "grid_auto_rows": null,
            "grid_gap": null,
            "max_width": null,
            "order": null,
            "_view_module_version": "1.2.0",
            "grid_template_areas": null,
            "object_position": null,
            "object_fit": null,
            "grid_auto_columns": null,
            "margin": null,
            "display": null,
            "left": null
          }
        },
        "2a5dcee9f2cb413ab7e8487bfbd33554": {
          "model_module": "@jupyter-widgets/controls",
          "model_name": "HBoxModel",
          "state": {
            "_view_name": "HBoxView",
            "_dom_classes": [],
            "_model_name": "HBoxModel",
            "_view_module": "@jupyter-widgets/controls",
            "_model_module_version": "1.5.0",
            "_view_count": null,
            "_view_module_version": "1.5.0",
            "box_style": "",
            "layout": "IPY_MODEL_ce09330ae70f46aeb844aee652a6d22a",
            "_model_module": "@jupyter-widgets/controls",
            "children": [
              "IPY_MODEL_a21907e72d8d4e00809d43be121f426c",
              "IPY_MODEL_c2f145746206428dbf04225239bb732c"
            ]
          }
        },
        "ce09330ae70f46aeb844aee652a6d22a": {
          "model_module": "@jupyter-widgets/base",
          "model_name": "LayoutModel",
          "state": {
            "_view_name": "LayoutView",
            "grid_template_rows": null,
            "right": null,
            "justify_content": null,
            "_view_module": "@jupyter-widgets/base",
            "overflow": null,
            "_model_module_version": "1.2.0",
            "_view_count": null,
            "flex_flow": null,
            "width": null,
            "min_width": null,
            "border": null,
            "align_items": null,
            "bottom": null,
            "_model_module": "@jupyter-widgets/base",
            "top": null,
            "grid_column": null,
            "overflow_y": null,
            "overflow_x": null,
            "grid_auto_flow": null,
            "grid_area": null,
            "grid_template_columns": null,
            "flex": null,
            "_model_name": "LayoutModel",
            "justify_items": null,
            "grid_row": null,
            "max_height": null,
            "align_content": null,
            "visibility": null,
            "align_self": null,
            "height": null,
            "min_height": null,
            "padding": null,
            "grid_auto_rows": null,
            "grid_gap": null,
            "max_width": null,
            "order": null,
            "_view_module_version": "1.2.0",
            "grid_template_areas": null,
            "object_position": null,
            "object_fit": null,
            "grid_auto_columns": null,
            "margin": null,
            "display": null,
            "left": null
          }
        },
        "a21907e72d8d4e00809d43be121f426c": {
          "model_module": "@jupyter-widgets/controls",
          "model_name": "IntProgressModel",
          "state": {
            "_view_name": "ProgressView",
            "style": "IPY_MODEL_c206090b2359486b8007c3d73673e3ba",
            "_dom_classes": [],
            "description": "",
            "_model_name": "IntProgressModel",
            "bar_style": "success",
            "max": 1,
            "_view_module": "@jupyter-widgets/controls",
            "_model_module_version": "1.5.0",
            "value": 1,
            "_view_count": null,
            "_view_module_version": "1.5.0",
            "orientation": "horizontal",
            "min": 0,
            "description_tooltip": null,
            "_model_module": "@jupyter-widgets/controls",
            "layout": "IPY_MODEL_b521d8e0b00347cfb1767328373a048c"
          }
        },
        "c2f145746206428dbf04225239bb732c": {
          "model_module": "@jupyter-widgets/controls",
          "model_name": "HTMLModel",
          "state": {
            "_view_name": "HTMLView",
            "style": "IPY_MODEL_e3136272121740feba7ff93a5bbe87bc",
            "_dom_classes": [],
            "description": "",
            "_model_name": "HTMLModel",
            "placeholder": "​",
            "_view_module": "@jupyter-widgets/controls",
            "_model_module_version": "1.5.0",
            "value": " 15687680/? [00:01&lt;00:00, 14945304.26it/s]",
            "_view_count": null,
            "_view_module_version": "1.5.0",
            "description_tooltip": null,
            "_model_module": "@jupyter-widgets/controls",
            "layout": "IPY_MODEL_6e0b917cafd74fcfaf449d26988e77f0"
          }
        },
        "c206090b2359486b8007c3d73673e3ba": {
          "model_module": "@jupyter-widgets/controls",
          "model_name": "ProgressStyleModel",
          "state": {
            "_view_name": "StyleView",
            "_model_name": "ProgressStyleModel",
            "description_width": "initial",
            "_view_module": "@jupyter-widgets/base",
            "_model_module_version": "1.5.0",
            "_view_count": null,
            "_view_module_version": "1.2.0",
            "bar_color": null,
            "_model_module": "@jupyter-widgets/controls"
          }
        },
        "b521d8e0b00347cfb1767328373a048c": {
          "model_module": "@jupyter-widgets/base",
          "model_name": "LayoutModel",
          "state": {
            "_view_name": "LayoutView",
            "grid_template_rows": null,
            "right": null,
            "justify_content": null,
            "_view_module": "@jupyter-widgets/base",
            "overflow": null,
            "_model_module_version": "1.2.0",
            "_view_count": null,
            "flex_flow": null,
            "width": null,
            "min_width": null,
            "border": null,
            "align_items": null,
            "bottom": null,
            "_model_module": "@jupyter-widgets/base",
            "top": null,
            "grid_column": null,
            "overflow_y": null,
            "overflow_x": null,
            "grid_auto_flow": null,
            "grid_area": null,
            "grid_template_columns": null,
            "flex": null,
            "_model_name": "LayoutModel",
            "justify_items": null,
            "grid_row": null,
            "max_height": null,
            "align_content": null,
            "visibility": null,
            "align_self": null,
            "height": null,
            "min_height": null,
            "padding": null,
            "grid_auto_rows": null,
            "grid_gap": null,
            "max_width": null,
            "order": null,
            "_view_module_version": "1.2.0",
            "grid_template_areas": null,
            "object_position": null,
            "object_fit": null,
            "grid_auto_columns": null,
            "margin": null,
            "display": null,
            "left": null
          }
        },
        "e3136272121740feba7ff93a5bbe87bc": {
          "model_module": "@jupyter-widgets/controls",
          "model_name": "DescriptionStyleModel",
          "state": {
            "_view_name": "StyleView",
            "_model_name": "DescriptionStyleModel",
            "description_width": "",
            "_view_module": "@jupyter-widgets/base",
            "_model_module_version": "1.5.0",
            "_view_count": null,
            "_view_module_version": "1.2.0",
            "_model_module": "@jupyter-widgets/controls"
          }
        },
        "6e0b917cafd74fcfaf449d26988e77f0": {
          "model_module": "@jupyter-widgets/base",
          "model_name": "LayoutModel",
          "state": {
            "_view_name": "LayoutView",
            "grid_template_rows": null,
            "right": null,
            "justify_content": null,
            "_view_module": "@jupyter-widgets/base",
            "overflow": null,
            "_model_module_version": "1.2.0",
            "_view_count": null,
            "flex_flow": null,
            "width": null,
            "min_width": null,
            "border": null,
            "align_items": null,
            "bottom": null,
            "_model_module": "@jupyter-widgets/base",
            "top": null,
            "grid_column": null,
            "overflow_y": null,
            "overflow_x": null,
            "grid_auto_flow": null,
            "grid_area": null,
            "grid_template_columns": null,
            "flex": null,
            "_model_name": "LayoutModel",
            "justify_items": null,
            "grid_row": null,
            "max_height": null,
            "align_content": null,
            "visibility": null,
            "align_self": null,
            "height": null,
            "min_height": null,
            "padding": null,
            "grid_auto_rows": null,
            "grid_gap": null,
            "max_width": null,
            "order": null,
            "_view_module_version": "1.2.0",
            "grid_template_areas": null,
            "object_position": null,
            "object_fit": null,
            "grid_auto_columns": null,
            "margin": null,
            "display": null,
            "left": null
          }
        },
        "be56a57344514a418ee6abf235698af9": {
          "model_module": "@jupyter-widgets/controls",
          "model_name": "HBoxModel",
          "state": {
            "_view_name": "HBoxView",
            "_dom_classes": [],
            "_model_name": "HBoxModel",
            "_view_module": "@jupyter-widgets/controls",
            "_model_module_version": "1.5.0",
            "_view_count": null,
            "_view_module_version": "1.5.0",
            "box_style": "",
            "layout": "IPY_MODEL_18d8873a11454e19a2981d6c006adaa8",
            "_model_module": "@jupyter-widgets/controls",
            "children": [
              "IPY_MODEL_db694907c55c451da3a81c62ec951630",
              "IPY_MODEL_f20743946e5b4155985218c73143a94f"
            ]
          }
        },
        "18d8873a11454e19a2981d6c006adaa8": {
          "model_module": "@jupyter-widgets/base",
          "model_name": "LayoutModel",
          "state": {
            "_view_name": "LayoutView",
            "grid_template_rows": null,
            "right": null,
            "justify_content": null,
            "_view_module": "@jupyter-widgets/base",
            "overflow": null,
            "_model_module_version": "1.2.0",
            "_view_count": null,
            "flex_flow": null,
            "width": null,
            "min_width": null,
            "border": null,
            "align_items": null,
            "bottom": null,
            "_model_module": "@jupyter-widgets/base",
            "top": null,
            "grid_column": null,
            "overflow_y": null,
            "overflow_x": null,
            "grid_auto_flow": null,
            "grid_area": null,
            "grid_template_columns": null,
            "flex": null,
            "_model_name": "LayoutModel",
            "justify_items": null,
            "grid_row": null,
            "max_height": null,
            "align_content": null,
            "visibility": null,
            "align_self": null,
            "height": null,
            "min_height": null,
            "padding": null,
            "grid_auto_rows": null,
            "grid_gap": null,
            "max_width": null,
            "order": null,
            "_view_module_version": "1.2.0",
            "grid_template_areas": null,
            "object_position": null,
            "object_fit": null,
            "grid_auto_columns": null,
            "margin": null,
            "display": null,
            "left": null
          }
        },
        "db694907c55c451da3a81c62ec951630": {
          "model_module": "@jupyter-widgets/controls",
          "model_name": "IntProgressModel",
          "state": {
            "_view_name": "ProgressView",
            "style": "IPY_MODEL_8d0061a279b040c6bd3894e13be75126",
            "_dom_classes": [],
            "description": "",
            "_model_name": "IntProgressModel",
            "bar_style": "success",
            "max": 1,
            "_view_module": "@jupyter-widgets/controls",
            "_model_module_version": "1.5.0",
            "value": 1,
            "_view_count": null,
            "_view_module_version": "1.5.0",
            "orientation": "horizontal",
            "min": 0,
            "description_tooltip": null,
            "_model_module": "@jupyter-widgets/controls",
            "layout": "IPY_MODEL_42a5de83c0294fbf8270864ba6ce80d3"
          }
        },
        "f20743946e5b4155985218c73143a94f": {
          "model_module": "@jupyter-widgets/controls",
          "model_name": "HTMLModel",
          "state": {
            "_view_name": "HTMLView",
            "style": "IPY_MODEL_76f34125e2394236bbe0bf8ccd83f74a",
            "_dom_classes": [],
            "description": "",
            "_model_name": "HTMLModel",
            "placeholder": "​",
            "_view_module": "@jupyter-widgets/controls",
            "_model_module_version": "1.5.0",
            "value": " 15687680/? [00:00&lt;00:00, 16436604.22it/s]",
            "_view_count": null,
            "_view_module_version": "1.5.0",
            "description_tooltip": null,
            "_model_module": "@jupyter-widgets/controls",
            "layout": "IPY_MODEL_4e84a02b7ce5405fa03e84cfcfdf3c4b"
          }
        },
        "8d0061a279b040c6bd3894e13be75126": {
          "model_module": "@jupyter-widgets/controls",
          "model_name": "ProgressStyleModel",
          "state": {
            "_view_name": "StyleView",
            "_model_name": "ProgressStyleModel",
            "description_width": "initial",
            "_view_module": "@jupyter-widgets/base",
            "_model_module_version": "1.5.0",
            "_view_count": null,
            "_view_module_version": "1.2.0",
            "bar_color": null,
            "_model_module": "@jupyter-widgets/controls"
          }
        },
        "42a5de83c0294fbf8270864ba6ce80d3": {
          "model_module": "@jupyter-widgets/base",
          "model_name": "LayoutModel",
          "state": {
            "_view_name": "LayoutView",
            "grid_template_rows": null,
            "right": null,
            "justify_content": null,
            "_view_module": "@jupyter-widgets/base",
            "overflow": null,
            "_model_module_version": "1.2.0",
            "_view_count": null,
            "flex_flow": null,
            "width": null,
            "min_width": null,
            "border": null,
            "align_items": null,
            "bottom": null,
            "_model_module": "@jupyter-widgets/base",
            "top": null,
            "grid_column": null,
            "overflow_y": null,
            "overflow_x": null,
            "grid_auto_flow": null,
            "grid_area": null,
            "grid_template_columns": null,
            "flex": null,
            "_model_name": "LayoutModel",
            "justify_items": null,
            "grid_row": null,
            "max_height": null,
            "align_content": null,
            "visibility": null,
            "align_self": null,
            "height": null,
            "min_height": null,
            "padding": null,
            "grid_auto_rows": null,
            "grid_gap": null,
            "max_width": null,
            "order": null,
            "_view_module_version": "1.2.0",
            "grid_template_areas": null,
            "object_position": null,
            "object_fit": null,
            "grid_auto_columns": null,
            "margin": null,
            "display": null,
            "left": null
          }
        },
        "76f34125e2394236bbe0bf8ccd83f74a": {
          "model_module": "@jupyter-widgets/controls",
          "model_name": "DescriptionStyleModel",
          "state": {
            "_view_name": "StyleView",
            "_model_name": "DescriptionStyleModel",
            "description_width": "",
            "_view_module": "@jupyter-widgets/base",
            "_model_module_version": "1.5.0",
            "_view_count": null,
            "_view_module_version": "1.2.0",
            "_model_module": "@jupyter-widgets/controls"
          }
        },
        "4e84a02b7ce5405fa03e84cfcfdf3c4b": {
          "model_module": "@jupyter-widgets/base",
          "model_name": "LayoutModel",
          "state": {
            "_view_name": "LayoutView",
            "grid_template_rows": null,
            "right": null,
            "justify_content": null,
            "_view_module": "@jupyter-widgets/base",
            "overflow": null,
            "_model_module_version": "1.2.0",
            "_view_count": null,
            "flex_flow": null,
            "width": null,
            "min_width": null,
            "border": null,
            "align_items": null,
            "bottom": null,
            "_model_module": "@jupyter-widgets/base",
            "top": null,
            "grid_column": null,
            "overflow_y": null,
            "overflow_x": null,
            "grid_auto_flow": null,
            "grid_area": null,
            "grid_template_columns": null,
            "flex": null,
            "_model_name": "LayoutModel",
            "justify_items": null,
            "grid_row": null,
            "max_height": null,
            "align_content": null,
            "visibility": null,
            "align_self": null,
            "height": null,
            "min_height": null,
            "padding": null,
            "grid_auto_rows": null,
            "grid_gap": null,
            "max_width": null,
            "order": null,
            "_view_module_version": "1.2.0",
            "grid_template_areas": null,
            "object_position": null,
            "object_fit": null,
            "grid_auto_columns": null,
            "margin": null,
            "display": null,
            "left": null
          }
        }
      }
    }
  },
  "cells": [
    {
      "cell_type": "markdown",
      "metadata": {
        "id": "qC71Qv1-TtI-"
      },
      "source": [
        "\n",
        "1.   Initialize libraries\n",
        "2.   Loss functions\n",
        "3.   Define data loaders\n",
        "4.   Define VAE network architecture\n",
        "5.   Initialize the model and optimizer\n",
        "6.   Train the model\n",
        "7.   Save the model\n",
        "8.   Load the model\n",
        "9.   Evaluate the model with importance sampling"
      ]
    },
    {
      "cell_type": "markdown",
      "metadata": {
        "id": "mcs7QFvETxQJ"
      },
      "source": [
        "Initialize libraries"
      ]
    },
    {
      "cell_type": "code",
      "metadata": {
        "id": "uLoP5GRpEPbI"
      },
      "source": [
        "import math\n",
        "from torchvision.datasets import utils\n",
        "import torch.utils.data as data_utils\n",
        "import torch\n",
        "import os\n",
        "import numpy as np\n",
        "from torch import nn\n",
        "from torch.nn.modules import upsampling\n",
        "from torch.functional import F\n",
        "from torch.optim import Adam"
      ],
      "execution_count": null,
      "outputs": []
    },
    {
      "cell_type": "markdown",
      "metadata": {
        "id": "NTB40neeR6-k"
      },
      "source": [
        "Insert **the answers for the questions 1.1~1.5 below**"
      ]
    },
    {
      "cell_type": "code",
      "metadata": {
        "id": "0Kr08AArNlHU"
      },
      "source": [
        "import math\n",
        "import numpy as np\n",
        "import torch\n",
        "\n",
        "\n",
        "def log_likelihood_bernoulli(mu, target):\n",
        "    \"\"\" \n",
        "    :param mu: (FloatTensor) - shape: (batch_size x input_size) - The mean of Bernoulli random variables p(x=1).\n",
        "    :param target: (FloatTensor) - shape: (batch_size x input_size) - Target samples (binary values).\n",
        "    :return: (FloatTensor) - shape: (batch_size,) - log-likelihood of target samples on the Bernoulli random variables.\n",
        "    \"\"\"\n",
        "    # init\n",
        "    batch_size = mu.size(0)\n",
        "    mu = mu.view(batch_size, -1)\n",
        "    target = target.view(batch_size, -1)\n",
        "\n",
        "    # log_likelihood_bernoulli\n",
        "    return torch.sum(torch.log(mu*target + (1-mu)*(1-target)), dim=1)\n",
        "\n",
        "\n",
        "def log_likelihood_normal(mu, logvar, z):\n",
        "    \"\"\" \n",
        "    :param mu: (FloatTensor) - shape: (batch_size x input_size) - The mean of Normal distributions.\n",
        "    :param logvar: (FloatTensor) - shape: (batch_size x input_size) - The log variance of Normal distributions.\n",
        "    :param z: (FloatTensor) - shape: (batch_size x input_size) - Target samples.\n",
        "    :return: (FloatTensor) - shape: (batch_size,) - log probability of the sames on the given Normal distributions.\n",
        "    \"\"\"\n",
        "    # init\n",
        "    batch_size = mu.size(0)\n",
        "    mu = mu.view(batch_size, -1)\n",
        "    logvar = logvar.view(batch_size, -1)\n",
        "    z = z.view(batch_size, -1)\n",
        "\n",
        "    # log normal\n",
        "    return - torch.sum(np.log(2*math.pi)/2 + logvar/2 + ((z-mu)**2)/(2 * torch.exp(logvar)), dim=1)\n",
        "\n",
        "\n",
        "\n",
        "def log_mean_exp(y):\n",
        "    \"\"\" \n",
        "    :param y: (FloatTensor) - shape: (batch_size x sample_size) - Values to be evaluated for log_mean_exp. For example log proababilies\n",
        "    :return: (FloatTensor) - shape: (batch_size,) - Output for log_mean_exp.\n",
        "    \"\"\"\n",
        "    # init\n",
        "    batch_size = y.size(0)\n",
        "    sample_size = y.size(1)\n",
        "    a = torch.max(y, dim=1, keepdim=True)[0]\n",
        "    # log_mean_exp\n",
        "    return torch.log((torch.mean(torch.exp(y-a), dim=1)))+torch.squeeze(a)\n",
        "\n",
        "\n",
        "def kl_gaussian_gaussian_analytic(mu_q, logvar_q, mu_p, logvar_p):\n",
        "    \"\"\" \n",
        "    :param mu_q: (FloatTensor) - shape: (batch_size x input_size) - The mean of first distributions (Normal distributions).\n",
        "    :param logvar_q: (FloatTensor) - shape: (batch_size x input_size) - The log variance of first distributions (Normal distributions).\n",
        "    :param mu_p: (FloatTensor) - shape: (batch_size x input_size) - The mean of second distributions (Normal distributions).\n",
        "    :param logvar_p: (FloatTensor) - shape: (batch_size x input_size) - The log variance of second distributions (Normal distributions).\n",
        "    :return: (FloatTensor) - shape: (batch_size,) - kl-divergence of KL(q||p).\n",
        "    \"\"\"\n",
        "    # init\n",
        "    batch_size = mu_q.size(0)\n",
        "    sample_size = mu_q.size(1)\n",
        "    mu_q = mu_q.view(batch_size, -1)\n",
        "    logvar_q = logvar_q.view(batch_size, -1)\n",
        "    mu_p = mu_p.view(batch_size, -1)\n",
        "    logvar_p = logvar_p.view(batch_size, -1)\n",
        "    sigma_q = torch.exp(logvar_q)\n",
        "    sigma_p = torch.exp(logvar_p)\n",
        "    det_q = torch.prod(sigma_q, dim=1)\n",
        "    det_p = torch.prod(sigma_p, dim=1)\n",
        "    kld = torch.log(det_p) -torch.log(det_q)\n",
        "    kld = kld - sample_size\n",
        "    inverse = 1/sigma_p\n",
        "    kld = kld + torch.sum(inverse*sigma_q, dim=1)\n",
        "    mu_diff = (mu_p - mu_q)**2\n",
        "    kld = kld + torch.diag(torch.matmul(mu_diff, torch.t(inverse)))\n",
        "    # kld\n",
        "    return 0.5*kld\n",
        "\n",
        "\n",
        "def kl_gaussian_gaussian_mc(mu_q, logvar_q, mu_p, logvar_p, num_samples=1):\n",
        "    \"\"\" \n",
        "    Monte carlo version\n",
        "    \n",
        "    :param mu_q: (FloatTensor) - shape: (batch_size x input_size) - The mean of first distributions (Normal distributions).\n",
        "    :param logvar_q: (FloatTensor) - shape: (batch_size x input_size) - The log variance of first distributions (Normal distributions).\n",
        "    :param mu_p: (FloatTensor) - shape: (batch_size x input_size) - The mean of second distributions (Normal distributions).\n",
        "    :param logvar_p: (FloatTensor) - shape: (batch_size x input_size) - The log variance of second distributions (Normal distributions).\n",
        "    :param num_samples: (int) - shape: () - The number of sample for Monte Carlo estimate for KL-divergence\n",
        "    :return: (FloatTensor) - shape: (batch_size,) - kl-divergence of KL(q||p).\n",
        "    \"\"\"\n",
        "    # init\n",
        "    batch_size = mu_q.size(0)\n",
        "    input_size = np.prod(mu_q.size()[1:])\n",
        "    mu_q = mu_q.view(batch_size, -1).unsqueeze(1).expand(batch_size, num_samples, input_size)\n",
        "    logvar_q = logvar_q.view(batch_size, -1).unsqueeze(1).expand(batch_size, num_samples, input_size)\n",
        "    mu_p = mu_p.view(batch_size, -1).unsqueeze(1).expand(batch_size, num_samples, input_size)\n",
        "    logvar_p = logvar_p.view(batch_size, -1).unsqueeze(1).expand(batch_size, num_samples, input_size)\n",
        "\n",
        "    distrib_q = torch.distributions.Independent(torch.distributions.Normal(mu_q, logvar_q), 2)\n",
        "    distrib_p = torch.distributions.Independent(torch.distributions.Normal(mu_p, logvar_p), 2)\n",
        "\n",
        "    print('batch size', batch_size, 'num samples', num_samples, 'input size', input_size)\n",
        "    print(distrib_q.sample().shape)\n",
        "    kld = torch.log(distrib_q.sample()) - torch.log(distrib_p.sample())\n",
        "    print('kld', kld.shape, torch.mean(torch.mean(kld, dim=1), dim=-1).shape)\n",
        "    return torch.mean(torch.mean(kld, dim=1), dim=-1)"
      ],
      "execution_count": null,
      "outputs": []
    },
    {
      "cell_type": "markdown",
      "metadata": {
        "id": "r3v_ld3ITRFl"
      },
      "source": [
        "Define data loaders"
      ]
    },
    {
      "cell_type": "code",
      "metadata": {
        "id": "oiK4L0TdETNb"
      },
      "source": [
        "def get_data_loader(dataset_location, batch_size):\n",
        "    URL = \"http://www.cs.toronto.edu/~larocheh/public/datasets/binarized_mnist/\"\n",
        "    # start processing\n",
        "    def lines_to_np_array(lines):\n",
        "        return np.array([[int(i) for i in line.split()] for line in lines])\n",
        "    splitdata = []\n",
        "    for splitname in [\"train\", \"valid\", \"test\"]:\n",
        "        filename = \"binarized_mnist_%s.amat\" % splitname\n",
        "        filepath = os.path.join(dataset_location, filename)\n",
        "        utils.download_url(URL + filename, dataset_location)\n",
        "        with open(filepath) as f:\n",
        "            lines = f.readlines()\n",
        "        x = lines_to_np_array(lines).astype('float32')\n",
        "        x = x.reshape(x.shape[0], 1, 28, 28)\n",
        "        # pytorch data loader\n",
        "        dataset = data_utils.TensorDataset(torch.from_numpy(x))\n",
        "        dataset_loader = data_utils.DataLoader(x, batch_size=batch_size, shuffle=splitname == \"train\")\n",
        "        splitdata.append(dataset_loader)\n",
        "    return splitdata"
      ],
      "execution_count": null,
      "outputs": []
    },
    {
      "cell_type": "code",
      "metadata": {
        "id": "TZsL1gLLEVJM",
        "outputId": "78f1fc3f-04f4-4e19-d883-b5d8df56eeec",
        "colab": {
          "base_uri": "https://localhost:8080/",
          "height": 215,
          "referenced_widgets": [
            "24f83777a52144449c198ad39bbbb2c4",
            "36af0ae371a74180b4dc39314025246c",
            "0367f698132941568d7c490cbad287f3",
            "44fa00e9f30b4d69a8ac117d03f12121",
            "21b65493cefd439a9668db4f611261dc",
            "cd5ec5408a1045378531a219c951df7c",
            "5e544983005c4796ae37da5485173e0c",
            "15260d2f8bdf4cf584355200d74ca725",
            "2a5dcee9f2cb413ab7e8487bfbd33554",
            "ce09330ae70f46aeb844aee652a6d22a",
            "a21907e72d8d4e00809d43be121f426c",
            "c2f145746206428dbf04225239bb732c",
            "c206090b2359486b8007c3d73673e3ba",
            "b521d8e0b00347cfb1767328373a048c",
            "e3136272121740feba7ff93a5bbe87bc",
            "6e0b917cafd74fcfaf449d26988e77f0",
            "be56a57344514a418ee6abf235698af9",
            "18d8873a11454e19a2981d6c006adaa8",
            "db694907c55c451da3a81c62ec951630",
            "f20743946e5b4155985218c73143a94f",
            "8d0061a279b040c6bd3894e13be75126",
            "42a5de83c0294fbf8270864ba6ce80d3",
            "76f34125e2394236bbe0bf8ccd83f74a",
            "4e84a02b7ce5405fa03e84cfcfdf3c4b"
          ]
        }
      },
      "source": [
        "train, valid, test = get_data_loader(\"binarized_mnist\", 64)"
      ],
      "execution_count": null,
      "outputs": [
        {
          "output_type": "stream",
          "text": [
            "Downloading http://www.cs.toronto.edu/~larocheh/public/datasets/binarized_mnist/binarized_mnist_train.amat to binarized_mnist/binarized_mnist_train.amat\n"
          ],
          "name": "stdout"
        },
        {
          "output_type": "display_data",
          "data": {
            "application/vnd.jupyter.widget-view+json": {
              "model_id": "24f83777a52144449c198ad39bbbb2c4",
              "version_minor": 0,
              "version_major": 2
            },
            "text/plain": [
              "HBox(children=(IntProgress(value=1, bar_style='info', max=1), HTML(value='')))"
            ]
          },
          "metadata": {
            "tags": []
          }
        },
        {
          "output_type": "stream",
          "text": [
            "\n",
            "Downloading http://www.cs.toronto.edu/~larocheh/public/datasets/binarized_mnist/binarized_mnist_valid.amat to binarized_mnist/binarized_mnist_valid.amat\n"
          ],
          "name": "stdout"
        },
        {
          "output_type": "display_data",
          "data": {
            "application/vnd.jupyter.widget-view+json": {
              "model_id": "2a5dcee9f2cb413ab7e8487bfbd33554",
              "version_minor": 0,
              "version_major": 2
            },
            "text/plain": [
              "HBox(children=(IntProgress(value=1, bar_style='info', max=1), HTML(value='')))"
            ]
          },
          "metadata": {
            "tags": []
          }
        },
        {
          "output_type": "stream",
          "text": [
            "\n",
            "Downloading http://www.cs.toronto.edu/~larocheh/public/datasets/binarized_mnist/binarized_mnist_test.amat to binarized_mnist/binarized_mnist_test.amat\n"
          ],
          "name": "stdout"
        },
        {
          "output_type": "display_data",
          "data": {
            "application/vnd.jupyter.widget-view+json": {
              "model_id": "be56a57344514a418ee6abf235698af9",
              "version_minor": 0,
              "version_major": 2
            },
            "text/plain": [
              "HBox(children=(IntProgress(value=1, bar_style='info', max=1), HTML(value='')))"
            ]
          },
          "metadata": {
            "tags": []
          }
        },
        {
          "output_type": "stream",
          "text": [
            "\n"
          ],
          "name": "stdout"
        }
      ]
    },
    {
      "cell_type": "markdown",
      "metadata": {
        "id": "8PoFxey7TUFS"
      },
      "source": [
        "Define VAE network architecture\n"
      ]
    },
    {
      "cell_type": "code",
      "metadata": {
        "id": "POBmU6UCEb4l"
      },
      "source": [
        "class Encoder(nn.Module):\n",
        "    def __init__(self, latent_size):\n",
        "        super(Encoder, self).__init__()\n",
        "        self.mlp = nn.Sequential(\n",
        "            nn.Linear(784, 300),\n",
        "            nn.ELU(),\n",
        "            nn.Linear(300, 300),\n",
        "            nn.ELU(),\n",
        "            nn.Linear(300, 2 * latent_size),\n",
        "        )\n",
        "\n",
        "    def forward(self, x):\n",
        "        batch_size = x.size(0)\n",
        "        z_mean, z_logvar = self.mlp(x.view(batch_size, 784)).chunk(2, dim=-1)\n",
        "        return z_mean, z_logvar\n",
        "\n",
        "class Decoder(nn.Module):\n",
        "    def __init__(self, latent_size):\n",
        "        super(Decoder, self).__init__()\n",
        "        self.mlp = nn.Sequential(\n",
        "            nn.Linear(latent_size, 300),\n",
        "            nn.ELU(),\n",
        "            nn.Linear(300, 300),\n",
        "            nn.ELU(),\n",
        "            nn.Linear(300, 784),\n",
        "        )\n",
        "        \n",
        "    def forward(self, z):\n",
        "        return self.mlp(z) - 5.\n",
        "\n",
        "class VAE(nn.Module):\n",
        "    def __init__(self, latent_size):\n",
        "        super(VAE, self).__init__()\n",
        "        self.encode = Encoder(latent_size)\n",
        "        self.decode = Decoder(latent_size)\n",
        "\n",
        "    def forward(self, x):\n",
        "        z_mean, z_logvar = self.encode(x)\n",
        "        z_sample = z_mean + torch.exp(z_logvar / 2.) * torch.randn_like(z_logvar)\n",
        "        x_mean = self.decode(z_sample)\n",
        "        return z_mean, z_logvar, x_mean\n",
        "\n",
        "    def loss(self, x, z_mean, z_logvar, x_mean):\n",
        "        ZERO = torch.zeros(z_mean.size())\n",
        "        #kl = kl_gaussian_gaussian_mc(z_mean, z_logvar, ZERO, ZERO, num_samples=1000).mean()\n",
        "        kl = kl_gaussian_gaussian_analytic(z_mean, z_logvar, ZERO, ZERO).mean()\n",
        "        recon_loss = -log_likelihood_bernoulli(\n",
        "            torch.sigmoid(x_mean.view(x.size(0), -1)),\n",
        "            x.view(x.size(0), -1),            \n",
        "        ).mean()\n",
        "        #print('bern', recon_loss.data, 'kl', kl.data)\n",
        "        return recon_loss + kl"
      ],
      "execution_count": null,
      "outputs": []
    },
    {
      "cell_type": "markdown",
      "metadata": {
        "id": "Phg07ERvTYuh"
      },
      "source": [
        "Initialize a model and optimizer"
      ]
    },
    {
      "cell_type": "code",
      "metadata": {
        "id": "xTxgDwZfEesO",
        "outputId": "27b81b38-0472-4fab-c3f3-0be0b620f6fc",
        "colab": {
          "base_uri": "https://localhost:8080/",
          "height": 357
        }
      },
      "source": [
        "vae = VAE(100)\n",
        "params = vae.parameters()\n",
        "optimizer = Adam(params, lr=3e-4)\n",
        "print(vae)"
      ],
      "execution_count": null,
      "outputs": [
        {
          "output_type": "stream",
          "text": [
            "VAE(\n",
            "  (encode): Encoder(\n",
            "    (mlp): Sequential(\n",
            "      (0): Linear(in_features=784, out_features=300, bias=True)\n",
            "      (1): ELU(alpha=1.0)\n",
            "      (2): Linear(in_features=300, out_features=300, bias=True)\n",
            "      (3): ELU(alpha=1.0)\n",
            "      (4): Linear(in_features=300, out_features=200, bias=True)\n",
            "    )\n",
            "  )\n",
            "  (decode): Decoder(\n",
            "    (mlp): Sequential(\n",
            "      (0): Linear(in_features=100, out_features=300, bias=True)\n",
            "      (1): ELU(alpha=1.0)\n",
            "      (2): Linear(in_features=300, out_features=300, bias=True)\n",
            "      (3): ELU(alpha=1.0)\n",
            "      (4): Linear(in_features=300, out_features=784, bias=True)\n",
            "    )\n",
            "  )\n",
            ")\n"
          ],
          "name": "stdout"
        }
      ]
    },
    {
      "cell_type": "markdown",
      "metadata": {
        "id": "Oqw9SI7aTdtG"
      },
      "source": [
        "Train the model"
      ]
    },
    {
      "cell_type": "code",
      "metadata": {
        "id": "SWtQakAOEhxN",
        "outputId": "25d27a80-793b-48ec-c4ab-fbea478bd8a5",
        "colab": {
          "base_uri": "https://localhost:8080/",
          "height": 357
        }
      },
      "source": [
        "for i in range(20):\n",
        "    # train\n",
        "    for x in train:\n",
        "        optimizer.zero_grad()\n",
        "        z_mean, z_logvar, x_mean = vae(x)\n",
        "        loss = vae.loss(x, z_mean, z_logvar, x_mean)\n",
        "        loss.backward()\n",
        "        optimizer.step()\n",
        "\n",
        "    # evaluate ELBO on the valid dataset\n",
        "    with torch.no_grad():\n",
        "        total_loss = 0.\n",
        "        total_count = 0\n",
        "        for x in valid:\n",
        "            total_loss += vae.loss(x, *vae(x)) * x.size(0)\n",
        "            total_count += x.size(0)\n",
        "        elbo = (total_loss / total_count).item()\n",
        "        print('-elbo: ', elbo)"
      ],
      "execution_count": null,
      "outputs": [
        {
          "output_type": "stream",
          "text": [
            "-elbo:  165.3411407470703\n",
            "-elbo:  141.90675354003906\n",
            "-elbo:  128.5894317626953\n",
            "-elbo:  121.81175231933594\n",
            "-elbo:  116.76677703857422\n",
            "-elbo:  113.55188751220703\n",
            "-elbo:  111.15648651123047\n",
            "-elbo:  109.549072265625\n",
            "-elbo:  108.17683410644531\n",
            "-elbo:  107.08405303955078\n",
            "-elbo:  106.26958465576172\n",
            "-elbo:  105.10070037841797\n",
            "-elbo:  104.50749969482422\n",
            "-elbo:  103.88885498046875\n",
            "-elbo:  103.34819793701172\n",
            "-elbo:  102.44393920898438\n",
            "-elbo:  102.3229751586914\n",
            "-elbo:  101.71232604980469\n",
            "-elbo:  101.50952911376953\n",
            "-elbo:  101.15481567382812\n"
          ],
          "name": "stdout"
        }
      ]
    },
    {
      "cell_type": "markdown",
      "metadata": {
        "id": "HXp5vuhDTg1J"
      },
      "source": [
        "Save the model"
      ]
    },
    {
      "cell_type": "code",
      "metadata": {
        "id": "JYfmW5TAElEO",
        "outputId": "0985adb6-afbc-4e8e-a857-b235c79e1f77",
        "colab": {
          "base_uri": "https://localhost:8080/",
          "height": 139
        }
      },
      "source": [
        "torch.save(vae, 'model.pt')"
      ],
      "execution_count": null,
      "outputs": [
        {
          "output_type": "stream",
          "text": [
            "/usr/local/lib/python3.6/dist-packages/torch/serialization.py:360: UserWarning: Couldn't retrieve source code for container of type VAE. It won't be checked for correctness upon loading.\n",
            "  \"type \" + obj.__name__ + \". It won't be checked \"\n",
            "/usr/local/lib/python3.6/dist-packages/torch/serialization.py:360: UserWarning: Couldn't retrieve source code for container of type Encoder. It won't be checked for correctness upon loading.\n",
            "  \"type \" + obj.__name__ + \". It won't be checked \"\n",
            "/usr/local/lib/python3.6/dist-packages/torch/serialization.py:360: UserWarning: Couldn't retrieve source code for container of type Decoder. It won't be checked for correctness upon loading.\n",
            "  \"type \" + obj.__name__ + \". It won't be checked \"\n"
          ],
          "name": "stderr"
        }
      ]
    },
    {
      "cell_type": "markdown",
      "metadata": {
        "id": "8Iz6QX_KTizK"
      },
      "source": [
        "Load the model"
      ]
    },
    {
      "cell_type": "code",
      "metadata": {
        "id": "Hqcb8BrmEnMh"
      },
      "source": [
        "vae = torch.load('model.pt')"
      ],
      "execution_count": null,
      "outputs": []
    },
    {
      "cell_type": "markdown",
      "metadata": {
        "id": "OTpoVRncTmSR"
      },
      "source": [
        "Evaluate the $\\log p_\\theta(x)$ of the model on test by using importance sampling"
      ]
    },
    {
      "cell_type": "code",
      "metadata": {
        "id": "tc2q6dxgEsIh",
        "outputId": "a65b1a45-8479-4a35-e2e0-4134cc2e5aa2",
        "colab": {
          "base_uri": "https://localhost:8080/",
          "height": 34
        }
      },
      "source": [
        "total_loss = 0.\n",
        "total_count = 0\n",
        "with torch.no_grad():\n",
        "    #x = next(iter(test))\n",
        "    for x in test:\n",
        "        # init\n",
        "        K = 200\n",
        "        M = x.size(0)\n",
        "\n",
        "        # Sample from the posterior\n",
        "        z_mean, z_logvar = vae.encode(x)\n",
        "        eps = torch.randn(z_mean.size(0), K, z_mean.size(1))\n",
        "        z_samples = z_mean[:, None, :] + torch.exp(z_logvar / 2.)[:, None, :] * eps # Broadcast the noise over the mean and variance\n",
        "\n",
        "        # Decode samples\n",
        "        z_samples_flat = z_samples.view(-1, z_samples.size(-1)) # Flatten out the z samples\n",
        "        x_mean_flat = vae.decode(z_samples_flat) # Push it through\n",
        "\n",
        "        # Reshape images and posterior to evaluate probabilities\n",
        "        x_flat = x[:, None].repeat(1, K, 1, 1, 1).reshape(M*K, -1)\n",
        "        z_mean_flat = z_mean[:, None, :].expand_as(z_samples).reshape(M*K, -1)\n",
        "        z_logvar_flat =  z_logvar[:, None, :].expand_as(z_samples).reshape(M*K, -1)\n",
        "        ZEROS = torch.zeros(z_mean_flat.size())\n",
        "\n",
        "        # Calculate all the probabilities!\n",
        "        log_p_x_z = log_likelihood_bernoulli(torch.sigmoid(x_mean_flat), x_flat).view(M, K)\n",
        "        log_q_z_x = log_likelihood_normal(z_mean_flat, z_logvar_flat, z_samples_flat).view(M, K)\n",
        "        log_p_z = log_likelihood_normal(ZEROS, ZEROS, z_samples_flat).view(M, K)\n",
        "\n",
        "        # Recombine them.\n",
        "        w = log_p_x_z + log_p_z - log_q_z_x\n",
        "        log_p = log_mean_exp(w)\n",
        "\n",
        "        # Accumulate\n",
        "        total_loss += log_p.sum()\n",
        "        total_count += M\n",
        "      \n",
        "print('log p(x):', (total_loss / total_count).item())"
      ],
      "execution_count": null,
      "outputs": [
        {
          "output_type": "stream",
          "text": [
            "log p(x): -95.49649047851562\n"
          ],
          "name": "stdout"
        }
      ]
    }
  ]
}